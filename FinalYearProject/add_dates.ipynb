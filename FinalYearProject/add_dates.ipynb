{
 "cells": [
  {
   "cell_type": "code",
   "execution_count": 38,
   "metadata": {},
   "outputs": [
    {
     "name": "stdout",
     "output_type": "stream",
     "text": [
      "Enter int the format YYYY-MM-DD2017-02-16\n"
     ]
    },
    {
     "data": {
      "text/plain": [
       "array('2017-02-16', dtype='datetime64[D]')"
      ]
     },
     "execution_count": 38,
     "metadata": {},
     "output_type": "execute_result"
    }
   ],
   "source": [
    "import numpy as np\n",
    "s=input(\"Enter int the format YYYY-MM-DD\")\n",
    "date = np.array(s, dtype=np.datetime64)\n",
    "date"
   ]
  },
  {
   "cell_type": "code",
   "execution_count": 47,
   "metadata": {},
   "outputs": [
    {
     "name": "stdout",
     "output_type": "stream",
     "text": [
      "['2017-01-03' '2017-01-04' '2017-01-05' '2017-01-06' '2017-01-07'\n",
      " '2017-01-08' '2017-01-09' '2017-01-10' '2017-01-11' '2017-01-12'\n",
      " '2017-01-13' '2017-01-14' '2017-01-15' '2017-01-16' '2017-01-17'\n",
      " '2017-01-18' '2017-01-19' '2017-01-20' '2017-01-21' '2017-01-22'\n",
      " '2017-01-23' '2017-01-24' '2017-01-25' '2017-01-26' '2017-01-27'\n",
      " '2017-01-28' '2017-01-29' '2017-01-30' '2017-01-31' '2017-02-01'\n",
      " '2017-02-02' '2017-02-03' '2017-02-04' '2017-02-05' '2017-02-06'\n",
      " '2017-02-07' '2017-02-08' '2017-02-09' '2017-02-10' '2017-02-11'\n",
      " '2017-02-12' '2017-02-13' '2017-02-14' '2017-02-15' '2017-02-16']\n"
     ]
    }
   ],
   "source": [
    "a=date - np.arange(45)\n",
    "b=date + np.arange(45)\n",
    "a=a[::-1]\n",
    "b=b[1::]\n",
    "print(a)\n"
   ]
  },
  {
   "cell_type": "code",
   "execution_count": 48,
   "metadata": {},
   "outputs": [
    {
     "name": "stdout",
     "output_type": "stream",
     "text": [
      "['2017-02-17' '2017-02-18' '2017-02-19' '2017-02-20' '2017-02-21'\n",
      " '2017-02-22' '2017-02-23' '2017-02-24' '2017-02-25' '2017-02-26'\n",
      " '2017-02-27' '2017-02-28' '2017-03-01' '2017-03-02' '2017-03-03'\n",
      " '2017-03-04' '2017-03-05' '2017-03-06' '2017-03-07' '2017-03-08'\n",
      " '2017-03-09' '2017-03-10' '2017-03-11' '2017-03-12' '2017-03-13'\n",
      " '2017-03-14' '2017-03-15' '2017-03-16' '2017-03-17' '2017-03-18'\n",
      " '2017-03-19' '2017-03-20' '2017-03-21' '2017-03-22' '2017-03-23'\n",
      " '2017-03-24' '2017-03-25' '2017-03-26' '2017-03-27' '2017-03-28'\n",
      " '2017-03-29' '2017-03-30' '2017-03-31' '2017-04-01']\n"
     ]
    }
   ],
   "source": [
    "print(b)"
   ]
  },
  {
   "cell_type": "code",
   "execution_count": 49,
   "metadata": {},
   "outputs": [],
   "source": [
    "import pandas as pd "
   ]
  },
  {
   "cell_type": "code",
   "execution_count": 50,
   "metadata": {},
   "outputs": [],
   "source": [
    "arr = np.concatenate((a, b))"
   ]
  },
  {
   "cell_type": "code",
   "execution_count": 51,
   "metadata": {},
   "outputs": [],
   "source": [
    "DF = pd.DataFrame(arr)"
   ]
  },
  {
   "cell_type": "code",
   "execution_count": 52,
   "metadata": {},
   "outputs": [],
   "source": [
    "DF.to_csv(\"dates.csv\")"
   ]
  }
 ],
 "metadata": {
  "kernelspec": {
   "display_name": "Python 3",
   "language": "python",
   "name": "python3"
  },
  "language_info": {
   "codemirror_mode": {
    "name": "ipython",
    "version": 3
   },
   "file_extension": ".py",
   "mimetype": "text/x-python",
   "name": "python",
   "nbconvert_exporter": "python",
   "pygments_lexer": "ipython3",
   "version": "3.8.5"
  }
 },
 "nbformat": 4,
 "nbformat_minor": 4
}
