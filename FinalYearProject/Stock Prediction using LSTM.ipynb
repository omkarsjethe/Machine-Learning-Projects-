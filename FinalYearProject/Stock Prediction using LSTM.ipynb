{
 "cells": [
  {
   "cell_type": "code",
   "execution_count": null,
   "id": "d446ab08",
   "metadata": {},
   "outputs": [],
   "source": []
  },
  {
   "cell_type": "code",
   "execution_count": 2,
   "id": "2ee60943",
   "metadata": {},
   "outputs": [],
   "source": [
    "import pandas as pd\n",
    "import numpy as  np \n",
    "import matplotlib.pyplot as plt \n",
    "import seaborn as sns \n",
    "import yfinance as yf\n",
    "import nsepy as npy\n",
    "import nsetools as nse\n",
    "import tensorflow as tf \n",
    "import keras.layers "
   ]
  },
  {
   "cell_type": "code",
   "execution_count": 26,
   "id": "7812de45",
   "metadata": {},
   "outputs": [],
   "source": [
    "from keras.layers import Dense,Dropout,LSTM\n",
    "from keras.models import Sequential"
   ]
  },
  {
   "cell_type": "code",
   "execution_count": 3,
   "id": "fdf34982",
   "metadata": {},
   "outputs": [],
   "source": [
    "from sklearn.preprocessing import MinMaxScaler"
   ]
  },
  {
   "cell_type": "code",
   "execution_count": 4,
   "id": "88cf89af",
   "metadata": {},
   "outputs": [
    {
     "name": "stderr",
     "output_type": "stream",
     "text": [
      "[*********************100%%**********************]  1 of 1 completed\n"
     ]
    }
   ],
   "source": [
    "start=\"2000-01-01\"\n",
    "end=\"2024-01-05\"\n",
    "stock =\"GOOG\"\n",
    "\n",
    "data=yf.download(stock,start,end)"
   ]
  },
  {
   "cell_type": "code",
   "execution_count": 5,
   "id": "2279e384",
   "metadata": {},
   "outputs": [],
   "source": [
    "data\n",
    "df=data"
   ]
  },
  {
   "cell_type": "code",
   "execution_count": 6,
   "id": "829ebcbb",
   "metadata": {},
   "outputs": [
    {
     "data": {
      "text/plain": [
       "(4878, 6)"
      ]
     },
     "execution_count": 6,
     "metadata": {},
     "output_type": "execute_result"
    }
   ],
   "source": [
    "df.shape"
   ]
  },
  {
   "cell_type": "code",
   "execution_count": 7,
   "id": "1ca6c3b8",
   "metadata": {},
   "outputs": [
    {
     "data": {
      "text/html": [
       "<div>\n",
       "<style scoped>\n",
       "    .dataframe tbody tr th:only-of-type {\n",
       "        vertical-align: middle;\n",
       "    }\n",
       "\n",
       "    .dataframe tbody tr th {\n",
       "        vertical-align: top;\n",
       "    }\n",
       "\n",
       "    .dataframe thead th {\n",
       "        text-align: right;\n",
       "    }\n",
       "</style>\n",
       "<table border=\"1\" class=\"dataframe\">\n",
       "  <thead>\n",
       "    <tr style=\"text-align: right;\">\n",
       "      <th></th>\n",
       "      <th>Open</th>\n",
       "      <th>High</th>\n",
       "      <th>Low</th>\n",
       "      <th>Close</th>\n",
       "      <th>Adj Close</th>\n",
       "      <th>Volume</th>\n",
       "    </tr>\n",
       "    <tr>\n",
       "      <th>Date</th>\n",
       "      <th></th>\n",
       "      <th></th>\n",
       "      <th></th>\n",
       "      <th></th>\n",
       "      <th></th>\n",
       "      <th></th>\n",
       "    </tr>\n",
       "  </thead>\n",
       "  <tbody>\n",
       "    <tr>\n",
       "      <th>2004-08-19</th>\n",
       "      <td>2.490664</td>\n",
       "      <td>2.591785</td>\n",
       "      <td>2.390042</td>\n",
       "      <td>2.499133</td>\n",
       "      <td>2.499133</td>\n",
       "      <td>897427216</td>\n",
       "    </tr>\n",
       "    <tr>\n",
       "      <th>2004-08-20</th>\n",
       "      <td>2.515820</td>\n",
       "      <td>2.716817</td>\n",
       "      <td>2.503118</td>\n",
       "      <td>2.697639</td>\n",
       "      <td>2.697639</td>\n",
       "      <td>458857488</td>\n",
       "    </tr>\n",
       "    <tr>\n",
       "      <th>2004-08-23</th>\n",
       "      <td>2.758411</td>\n",
       "      <td>2.826406</td>\n",
       "      <td>2.716070</td>\n",
       "      <td>2.724787</td>\n",
       "      <td>2.724787</td>\n",
       "      <td>366857939</td>\n",
       "    </tr>\n",
       "    <tr>\n",
       "      <th>2004-08-24</th>\n",
       "      <td>2.770615</td>\n",
       "      <td>2.779581</td>\n",
       "      <td>2.579581</td>\n",
       "      <td>2.611960</td>\n",
       "      <td>2.611960</td>\n",
       "      <td>306396159</td>\n",
       "    </tr>\n",
       "    <tr>\n",
       "      <th>2004-08-25</th>\n",
       "      <td>2.614201</td>\n",
       "      <td>2.689918</td>\n",
       "      <td>2.587302</td>\n",
       "      <td>2.640104</td>\n",
       "      <td>2.640104</td>\n",
       "      <td>184645512</td>\n",
       "    </tr>\n",
       "  </tbody>\n",
       "</table>\n",
       "</div>"
      ],
      "text/plain": [
       "                Open      High       Low     Close  Adj Close     Volume\n",
       "Date                                                                    \n",
       "2004-08-19  2.490664  2.591785  2.390042  2.499133   2.499133  897427216\n",
       "2004-08-20  2.515820  2.716817  2.503118  2.697639   2.697639  458857488\n",
       "2004-08-23  2.758411  2.826406  2.716070  2.724787   2.724787  366857939\n",
       "2004-08-24  2.770615  2.779581  2.579581  2.611960   2.611960  306396159\n",
       "2004-08-25  2.614201  2.689918  2.587302  2.640104   2.640104  184645512"
      ]
     },
     "execution_count": 7,
     "metadata": {},
     "output_type": "execute_result"
    }
   ],
   "source": [
    "df.head()"
   ]
  },
  {
   "cell_type": "code",
   "execution_count": 8,
   "id": "55547809",
   "metadata": {},
   "outputs": [
    {
     "data": {
      "text/html": [
       "<div>\n",
       "<style scoped>\n",
       "    .dataframe tbody tr th:only-of-type {\n",
       "        vertical-align: middle;\n",
       "    }\n",
       "\n",
       "    .dataframe tbody tr th {\n",
       "        vertical-align: top;\n",
       "    }\n",
       "\n",
       "    .dataframe thead th {\n",
       "        text-align: right;\n",
       "    }\n",
       "</style>\n",
       "<table border=\"1\" class=\"dataframe\">\n",
       "  <thead>\n",
       "    <tr style=\"text-align: right;\">\n",
       "      <th></th>\n",
       "      <th>Open</th>\n",
       "      <th>High</th>\n",
       "      <th>Low</th>\n",
       "      <th>Close</th>\n",
       "      <th>Adj Close</th>\n",
       "      <th>Volume</th>\n",
       "    </tr>\n",
       "    <tr>\n",
       "      <th>Date</th>\n",
       "      <th></th>\n",
       "      <th></th>\n",
       "      <th></th>\n",
       "      <th></th>\n",
       "      <th></th>\n",
       "      <th></th>\n",
       "    </tr>\n",
       "  </thead>\n",
       "  <tbody>\n",
       "    <tr>\n",
       "      <th>2023-12-28</th>\n",
       "      <td>141.850006</td>\n",
       "      <td>142.270004</td>\n",
       "      <td>140.828003</td>\n",
       "      <td>141.279999</td>\n",
       "      <td>141.279999</td>\n",
       "      <td>12192500</td>\n",
       "    </tr>\n",
       "    <tr>\n",
       "      <th>2023-12-29</th>\n",
       "      <td>140.679993</td>\n",
       "      <td>141.434998</td>\n",
       "      <td>139.899994</td>\n",
       "      <td>140.929993</td>\n",
       "      <td>140.929993</td>\n",
       "      <td>14872700</td>\n",
       "    </tr>\n",
       "    <tr>\n",
       "      <th>2024-01-02</th>\n",
       "      <td>139.600006</td>\n",
       "      <td>140.615005</td>\n",
       "      <td>137.740005</td>\n",
       "      <td>139.559998</td>\n",
       "      <td>139.559998</td>\n",
       "      <td>20071900</td>\n",
       "    </tr>\n",
       "    <tr>\n",
       "      <th>2024-01-03</th>\n",
       "      <td>138.600006</td>\n",
       "      <td>141.089996</td>\n",
       "      <td>138.429993</td>\n",
       "      <td>140.360001</td>\n",
       "      <td>140.360001</td>\n",
       "      <td>18974300</td>\n",
       "    </tr>\n",
       "    <tr>\n",
       "      <th>2024-01-04</th>\n",
       "      <td>139.850006</td>\n",
       "      <td>140.634995</td>\n",
       "      <td>138.009995</td>\n",
       "      <td>138.039993</td>\n",
       "      <td>138.039993</td>\n",
       "      <td>18253300</td>\n",
       "    </tr>\n",
       "  </tbody>\n",
       "</table>\n",
       "</div>"
      ],
      "text/plain": [
       "                  Open        High         Low       Close   Adj Close  \\\n",
       "Date                                                                     \n",
       "2023-12-28  141.850006  142.270004  140.828003  141.279999  141.279999   \n",
       "2023-12-29  140.679993  141.434998  139.899994  140.929993  140.929993   \n",
       "2024-01-02  139.600006  140.615005  137.740005  139.559998  139.559998   \n",
       "2024-01-03  138.600006  141.089996  138.429993  140.360001  140.360001   \n",
       "2024-01-04  139.850006  140.634995  138.009995  138.039993  138.039993   \n",
       "\n",
       "              Volume  \n",
       "Date                  \n",
       "2023-12-28  12192500  \n",
       "2023-12-29  14872700  \n",
       "2024-01-02  20071900  \n",
       "2024-01-03  18974300  \n",
       "2024-01-04  18253300  "
      ]
     },
     "execution_count": 8,
     "metadata": {},
     "output_type": "execute_result"
    }
   ],
   "source": [
    "df.tail()"
   ]
  },
  {
   "cell_type": "code",
   "execution_count": 9,
   "id": "98934b27",
   "metadata": {},
   "outputs": [
    {
     "name": "stdout",
     "output_type": "stream",
     "text": [
      "<class 'pandas.core.frame.DataFrame'>\n",
      "DatetimeIndex: 4878 entries, 2004-08-19 to 2024-01-04\n",
      "Data columns (total 6 columns):\n",
      " #   Column     Non-Null Count  Dtype  \n",
      "---  ------     --------------  -----  \n",
      " 0   Open       4878 non-null   float64\n",
      " 1   High       4878 non-null   float64\n",
      " 2   Low        4878 non-null   float64\n",
      " 3   Close      4878 non-null   float64\n",
      " 4   Adj Close  4878 non-null   float64\n",
      " 5   Volume     4878 non-null   int64  \n",
      "dtypes: float64(5), int64(1)\n",
      "memory usage: 266.8 KB\n"
     ]
    }
   ],
   "source": [
    "df.info()"
   ]
  },
  {
   "cell_type": "code",
   "execution_count": 10,
   "id": "f77395af",
   "metadata": {},
   "outputs": [
    {
     "data": {
      "text/plain": [
       "<bound method NDFrame.describe of                   Open        High         Low       Close   Adj Close  \\\n",
       "Date                                                                     \n",
       "2004-08-19    2.490664    2.591785    2.390042    2.499133    2.499133   \n",
       "2004-08-20    2.515820    2.716817    2.503118    2.697639    2.697639   \n",
       "2004-08-23    2.758411    2.826406    2.716070    2.724787    2.724787   \n",
       "2004-08-24    2.770615    2.779581    2.579581    2.611960    2.611960   \n",
       "2004-08-25    2.614201    2.689918    2.587302    2.640104    2.640104   \n",
       "...                ...         ...         ...         ...         ...   \n",
       "2023-12-28  141.850006  142.270004  140.828003  141.279999  141.279999   \n",
       "2023-12-29  140.679993  141.434998  139.899994  140.929993  140.929993   \n",
       "2024-01-02  139.600006  140.615005  137.740005  139.559998  139.559998   \n",
       "2024-01-03  138.600006  141.089996  138.429993  140.360001  140.360001   \n",
       "2024-01-04  139.850006  140.634995  138.009995  138.039993  138.039993   \n",
       "\n",
       "               Volume  \n",
       "Date                   \n",
       "2004-08-19  897427216  \n",
       "2004-08-20  458857488  \n",
       "2004-08-23  366857939  \n",
       "2004-08-24  306396159  \n",
       "2004-08-25  184645512  \n",
       "...               ...  \n",
       "2023-12-28   12192500  \n",
       "2023-12-29   14872700  \n",
       "2024-01-02   20071900  \n",
       "2024-01-03   18974300  \n",
       "2024-01-04   18253300  \n",
       "\n",
       "[4878 rows x 6 columns]>"
      ]
     },
     "execution_count": 10,
     "metadata": {},
     "output_type": "execute_result"
    }
   ],
   "source": [
    "df.describe"
   ]
  },
  {
   "cell_type": "code",
   "execution_count": 11,
   "id": "348f413f",
   "metadata": {},
   "outputs": [
    {
     "data": {
      "text/plain": [
       "Open   High   Low    Close  Adj Close  Volume\n",
       "False  False  False  False  False      False     4878\n",
       "dtype: int64"
      ]
     },
     "execution_count": 11,
     "metadata": {},
     "output_type": "execute_result"
    }
   ],
   "source": [
    "df.isna().value_counts()"
   ]
  },
  {
   "cell_type": "code",
   "execution_count": 12,
   "id": "12b0353e",
   "metadata": {},
   "outputs": [],
   "source": [
    "ma_100_days=df.Close.rolling(100).mean()"
   ]
  },
  {
   "cell_type": "code",
   "execution_count": 13,
   "id": "b2fcde90",
   "metadata": {},
   "outputs": [
    {
     "data": {
      "text/plain": [
       "Date\n",
       "2004-08-19         NaN\n",
       "2004-08-20         NaN\n",
       "2004-08-23         NaN\n",
       "2004-08-24         NaN\n",
       "2004-08-25         NaN\n",
       "                ...   \n",
       "2023-12-28    134.7783\n",
       "2023-12-29    134.8692\n",
       "2024-01-02    134.9633\n",
       "2024-01-03    135.0648\n",
       "2024-01-04    135.1435\n",
       "Name: Close, Length: 4878, dtype: float64"
      ]
     },
     "execution_count": 13,
     "metadata": {},
     "output_type": "execute_result"
    }
   ],
   "source": [
    "ma_100_days"
   ]
  },
  {
   "cell_type": "code",
   "execution_count": 14,
   "id": "bf079688",
   "metadata": {},
   "outputs": [
    {
     "data": {
      "image/png": "[encoded data removed]",
      "text/plain": [
       "<Figure size 800x600 with 1 Axes>"
      ]
     },
     "metadata": {},
     "output_type": "display_data"
    }
   ],
   "source": [
    "plt.figure(figsize=(8,6))\n",
    "plt.plot(ma_100_days,\"r\")\n",
    "plt.plot(df.Close,\"g\")\n",
    "plt.show()"
   ]
  },
  {
   "cell_type": "code",
   "execution_count": 15,
   "id": "269e634d",
   "metadata": {},
   "outputs": [],
   "source": [
    "ma_200_days=df.Close.rolling(200).mean()"
   ]
  },
  {
   "cell_type": "code",
   "execution_count": 16,
   "id": "6e8a7ef0",
   "metadata": {},
   "outputs": [
    {
     "data": {
      "image/png": "[encoded data removed]",
      "text/plain": [
       "<Figure size 800x600 with 1 Axes>"
      ]
     },
     "metadata": {},
     "output_type": "display_data"
    }
   ],
   "source": [
    "plt.figure(figsize=(8,6))\n",
    "plt.plot(ma_100_days,\"r\")\n",
    "plt.plot(ma_200_days,\"b\")\n",
    "plt.plot(df.Close,\"g\")\n",
    "plt.show()"
   ]
  },
  {
   "cell_type": "code",
   "execution_count": 17,
   "id": "fe60d710",
   "metadata": {},
   "outputs": [],
   "source": [
    "df.dropna(inplace=True)"
   ]
  },
  {
   "cell_type": "code",
   "execution_count": 18,
   "id": "67ef7487",
   "metadata": {},
   "outputs": [],
   "source": [
    "df_train=pd.DataFrame(df.Close[0: int(len(data)*0.80)])\n",
    "df_test=pd.DataFrame(df.Close[int(len(data)*0.80):len(data)])"
   ]
  },
  {
   "cell_type": "code",
   "execution_count": 19,
   "id": "59e1e98b",
   "metadata": {},
   "outputs": [
    {
     "data": {
      "text/plain": [
       "3902"
      ]
     },
     "execution_count": 19,
     "metadata": {},
     "output_type": "execute_result"
    }
   ],
   "source": [
    "df_train.shape[0]"
   ]
  },
  {
   "cell_type": "code",
   "execution_count": 20,
   "id": "3b674075",
   "metadata": {},
   "outputs": [
    {
     "data": {
      "text/plain": [
       "976"
      ]
     },
     "execution_count": 20,
     "metadata": {},
     "output_type": "execute_result"
    }
   ],
   "source": [
    "df_test.shape[0]"
   ]
  },
  {
   "cell_type": "code",
   "execution_count": 21,
   "id": "e03c377b",
   "metadata": {},
   "outputs": [],
   "source": [
    "scaler=MinMaxScaler(feature_range=(0,1))"
   ]
  },
  {
   "cell_type": "code",
   "execution_count": 22,
   "id": "ab971a4e",
   "metadata": {},
   "outputs": [],
   "source": [
    "df_train_scale=scaler.fit_transform(df_train)"
   ]
  },
  {
   "cell_type": "code",
   "execution_count": 23,
   "id": "92777892",
   "metadata": {},
   "outputs": [],
   "source": [
    "x=[]\n",
    "y=[]\n",
    "for i in range (100,df_train_scale.shape[0]):\n",
    "    x.append(df_train_scale[i-100:i])\n",
    "    y.append(df_train_scale[i,0])"
   ]
  },
  {
   "cell_type": "code",
   "execution_count": 27,
   "id": "b3a12066",
   "metadata": {},
   "outputs": [],
   "source": [
    "x,y=np.array(x),np.array(y)"
   ]
  },
  {
   "cell_type": "code",
   "execution_count": 29,
   "id": "25874c3c",
   "metadata": {},
   "outputs": [],
   "source": [
    "model=Sequential()\n",
    "model.add(LSTM(units=50,activation=\"relu\", return_sequences = True ,\n",
    "                input_shape=((x.shape[1],1))))\n",
    "model.add(Dropout(0.2))\n",
    "\n",
    "model.add(LSTM(units=60,activation=\"relu\", return_sequences =True))\n",
    "model.add(Dropout(0.3))\n",
    "\n",
    "model.add(LSTM(units=80,activation=\"relu\", return_sequences =True))\n",
    "model.add(Dropout(0.4))\n",
    "\n",
    "model.add(LSTM(units=120,activation=\"relu\"))\n",
    "model.add(Dropout(0.5))\n",
    "\n",
    "model.add(Dense(units=1))"
   ]
  },
  {
   "cell_type": "code",
   "execution_count": 30,
   "id": "a0d170ae",
   "metadata": {},
   "outputs": [],
   "source": [
    "model.compile(optimizer=\"adam\",loss=\"mean_squared_error\")"
   ]
  },
  {
   "cell_type": "code",
   "execution_count": 31,
   "id": "c21d2892",
   "metadata": {},
   "outputs": [
    {
     "name": "stdout",
     "output_type": "stream",
     "text": [
      "Epoch 1/50\n",
      "119/119 [==============================] - 15s 116ms/step - loss: 0.0157\n",
      "Epoch 2/50\n",
      "119/119 [==============================] - 14s 115ms/step - loss: 0.0041\n",
      "Epoch 3/50\n",
      "119/119 [==============================] - 13s 113ms/step - loss: 0.0042\n",
      "Epoch 4/50\n",
      "119/119 [==============================] - 14s 114ms/step - loss: 0.0036\n",
      "Epoch 5/50\n",
      "119/119 [==============================] - 13s 113ms/step - loss: 0.0030\n",
      "Epoch 6/50\n",
      "119/119 [==============================] - 14s 115ms/step - loss: 0.0030\n",
      "Epoch 7/50\n",
      "119/119 [==============================] - 13s 113ms/step - loss: 0.0028\n",
      "Epoch 8/50\n",
      "119/119 [==============================] - 14s 116ms/step - loss: 0.0024\n",
      "Epoch 9/50\n",
      "119/119 [==============================] - 13s 112ms/step - loss: 0.0024\n",
      "Epoch 10/50\n",
      "119/119 [==============================] - 13s 110ms/step - loss: 0.0025\n",
      "Epoch 11/50\n",
      "119/119 [==============================] - 13s 110ms/step - loss: 0.0024\n",
      "Epoch 12/50\n",
      "119/119 [==============================] - 13s 110ms/step - loss: 0.0021\n",
      "Epoch 13/50\n",
      "119/119 [==============================] - 13s 110ms/step - loss: 0.0021\n",
      "Epoch 14/50\n",
      "119/119 [==============================] - 13s 110ms/step - loss: 0.0020\n",
      "Epoch 15/50\n",
      "119/119 [==============================] - 13s 110ms/step - loss: 0.0020\n",
      "Epoch 16/50\n",
      "119/119 [==============================] - 13s 110ms/step - loss: 0.0019\n",
      "Epoch 17/50\n",
      "119/119 [==============================] - 13s 110ms/step - loss: 0.0018\n",
      "Epoch 18/50\n",
      "119/119 [==============================] - 13s 110ms/step - loss: 0.0017\n",
      "Epoch 19/50\n",
      "119/119 [==============================] - 13s 110ms/step - loss: 0.0018\n",
      "Epoch 20/50\n",
      "119/119 [==============================] - 13s 110ms/step - loss: 0.0017\n",
      "Epoch 21/50\n",
      "119/119 [==============================] - 13s 110ms/step - loss: 0.0017\n",
      "Epoch 22/50\n",
      "119/119 [==============================] - 13s 110ms/step - loss: 0.0018\n",
      "Epoch 23/50\n",
      "119/119 [==============================] - 13s 110ms/step - loss: 0.0017\n",
      "Epoch 24/50\n",
      "119/119 [==============================] - 13s 110ms/step - loss: 0.0017\n",
      "Epoch 25/50\n",
      "119/119 [==============================] - 13s 110ms/step - loss: 0.0018\n",
      "Epoch 26/50\n",
      "119/119 [==============================] - 13s 113ms/step - loss: 0.0017\n",
      "Epoch 27/50\n",
      "119/119 [==============================] - 14s 118ms/step - loss: 0.0019\n",
      "Epoch 28/50\n",
      "119/119 [==============================] - 14s 115ms/step - loss: 0.0017\n",
      "Epoch 29/50\n",
      "119/119 [==============================] - 15s 124ms/step - loss: 0.0018\n",
      "Epoch 30/50\n",
      "119/119 [==============================] - 13s 112ms/step - loss: 0.0016\n",
      "Epoch 31/50\n",
      "119/119 [==============================] - 13s 110ms/step - loss: 0.0015\n",
      "Epoch 32/50\n",
      "119/119 [==============================] - 14s 114ms/step - loss: 0.0018\n",
      "Epoch 33/50\n",
      "119/119 [==============================] - 13s 110ms/step - loss: 0.0016\n",
      "Epoch 34/50\n",
      "119/119 [==============================] - 13s 113ms/step - loss: 0.0015\n",
      "Epoch 35/50\n",
      "119/119 [==============================] - 13s 110ms/step - loss: 0.0016\n",
      "Epoch 36/50\n",
      "119/119 [==============================] - 14s 115ms/step - loss: 0.0016\n",
      "Epoch 37/50\n",
      "119/119 [==============================] - 13s 111ms/step - loss: 0.0016\n",
      "Epoch 38/50\n",
      "119/119 [==============================] - 13s 112ms/step - loss: 0.0015\n",
      "Epoch 39/50\n",
      "119/119 [==============================] - 13s 113ms/step - loss: 0.0016\n",
      "Epoch 40/50\n",
      "119/119 [==============================] - 13s 113ms/step - loss: 0.0016\n",
      "Epoch 41/50\n",
      "119/119 [==============================] - 13s 111ms/step - loss: 0.0016\n",
      "Epoch 42/50\n",
      "119/119 [==============================] - 13s 111ms/step - loss: 0.0016\n",
      "Epoch 43/50\n",
      "119/119 [==============================] - 13s 111ms/step - loss: 0.0016\n",
      "Epoch 44/50\n",
      "119/119 [==============================] - 13s 110ms/step - loss: 0.0015\n",
      "Epoch 45/50\n",
      "119/119 [==============================] - 13s 111ms/step - loss: 0.0016\n",
      "Epoch 46/50\n",
      "119/119 [==============================] - 13s 111ms/step - loss: 0.0016\n",
      "Epoch 47/50\n",
      "119/119 [==============================] - 14s 114ms/step - loss: 0.0016\n",
      "Epoch 48/50\n",
      "119/119 [==============================] - 13s 112ms/step - loss: 0.0017\n",
      "Epoch 49/50\n",
      "119/119 [==============================] - 13s 111ms/step - loss: 0.0015\n",
      "Epoch 50/50\n",
      "119/119 [==============================] - 14s 114ms/step - loss: 0.0016\n"
     ]
    },
    {
     "data": {
      "text/plain": [
       "<keras.src.callbacks.History at 0x29ee351d0>"
      ]
     },
     "execution_count": 31,
     "metadata": {},
     "output_type": "execute_result"
    }
   ],
   "source": [
    "model.fit(x,y,epochs=50,batch_size=32,verbose=1 )"
   ]
  },
  {
   "cell_type": "code",
   "execution_count": 33,
   "id": "465b4b25",
   "metadata": {},
   "outputs": [
    {
     "name": "stdout",
     "output_type": "stream",
     "text": [
      "Model: \"sequential\"\n",
      "_________________________________________________________________\n",
      " Layer (type)                Output Shape              Param #   \n",
      "=================================================================\n",
      " lstm (LSTM)                 (None, 100, 50)           10400     \n",
      "                                                                 \n",
      " dropout (Dropout)           (None, 100, 50)           0         \n",
      "                                                                 \n",
      " lstm_1 (LSTM)               (None, 100, 60)           26640     \n",
      "                                                                 \n",
      " dropout_1 (Dropout)         (None, 100, 60)           0         \n",
      "                                                                 \n",
      " lstm_2 (LSTM)               (None, 100, 80)           45120     \n",
      "                                                                 \n",
      " dropout_2 (Dropout)         (None, 100, 80)           0         \n",
      "                                                                 \n",
      " lstm_3 (LSTM)               (None, 120)               96480     \n",
      "                                                                 \n",
      " dropout_3 (Dropout)         (None, 120)               0         \n",
      "                                                                 \n",
      " dense (Dense)               (None, 1)                 121       \n",
      "                                                                 \n",
      "=================================================================\n",
      "Total params: 178761 (698.29 KB)\n",
      "Trainable params: 178761 (698.29 KB)\n",
      "Non-trainable params: 0 (0.00 Byte)\n",
      "_________________________________________________________________\n"
     ]
    }
   ],
   "source": [
    "model.summary()"
   ]
  },
  {
   "cell_type": "code",
   "execution_count": 34,
   "id": "bc64bd0f",
   "metadata": {},
   "outputs": [],
   "source": [
    "pass_100_days=df_train.tail(100)\n"
   ]
  },
  {
   "cell_type": "code",
   "execution_count": 36,
   "id": "c62a06f4",
   "metadata": {},
   "outputs": [],
   "source": [
    "df_test=pd.concat([pass_100_days,df_test],ignore_index= True)"
   ]
  },
  {
   "cell_type": "code",
   "execution_count": 37,
   "id": "355e6e4a",
   "metadata": {},
   "outputs": [
    {
     "data": {
      "text/html": [
       "<div>\n",
       "<style scoped>\n",
       "    .dataframe tbody tr th:only-of-type {\n",
       "        vertical-align: middle;\n",
       "    }\n",
       "\n",
       "    .dataframe tbody tr th {\n",
       "        vertical-align: top;\n",
       "    }\n",
       "\n",
       "    .dataframe thead th {\n",
       "        text-align: right;\n",
       "    }\n",
       "</style>\n",
       "<table border=\"1\" class=\"dataframe\">\n",
       "  <thead>\n",
       "    <tr style=\"text-align: right;\">\n",
       "      <th></th>\n",
       "      <th>Close</th>\n",
       "    </tr>\n",
       "  </thead>\n",
       "  <tbody>\n",
       "    <tr>\n",
       "      <th>0</th>\n",
       "      <td>62.069500</td>\n",
       "    </tr>\n",
       "    <tr>\n",
       "      <th>1</th>\n",
       "      <td>61.254501</td>\n",
       "    </tr>\n",
       "    <tr>\n",
       "      <th>2</th>\n",
       "      <td>60.950001</td>\n",
       "    </tr>\n",
       "    <tr>\n",
       "      <th>3</th>\n",
       "      <td>60.255001</td>\n",
       "    </tr>\n",
       "    <tr>\n",
       "      <th>4</th>\n",
       "      <td>58.831501</td>\n",
       "    </tr>\n",
       "    <tr>\n",
       "      <th>...</th>\n",
       "      <td>...</td>\n",
       "    </tr>\n",
       "    <tr>\n",
       "      <th>1071</th>\n",
       "      <td>141.279999</td>\n",
       "    </tr>\n",
       "    <tr>\n",
       "      <th>1072</th>\n",
       "      <td>140.929993</td>\n",
       "    </tr>\n",
       "    <tr>\n",
       "      <th>1073</th>\n",
       "      <td>139.559998</td>\n",
       "    </tr>\n",
       "    <tr>\n",
       "      <th>1074</th>\n",
       "      <td>140.360001</td>\n",
       "    </tr>\n",
       "    <tr>\n",
       "      <th>1075</th>\n",
       "      <td>138.039993</td>\n",
       "    </tr>\n",
       "  </tbody>\n",
       "</table>\n",
       "<p>1076 rows × 1 columns</p>\n",
       "</div>"
      ],
      "text/plain": [
       "           Close\n",
       "0      62.069500\n",
       "1      61.254501\n",
       "2      60.950001\n",
       "3      60.255001\n",
       "4      58.831501\n",
       "...          ...\n",
       "1071  141.279999\n",
       "1072  140.929993\n",
       "1073  139.559998\n",
       "1074  140.360001\n",
       "1075  138.039993\n",
       "\n",
       "[1076 rows x 1 columns]"
      ]
     },
     "execution_count": 37,
     "metadata": {},
     "output_type": "execute_result"
    }
   ],
   "source": [
    "df_test"
   ]
  },
  {
   "cell_type": "code",
   "execution_count": 40,
   "id": "fd5ad4f5",
   "metadata": {},
   "outputs": [],
   "source": [
    "df_test_scale=scaler.fit_transform(df_test)"
   ]
  },
  {
   "cell_type": "code",
   "execution_count": 43,
   "id": "c3b81e58",
   "metadata": {},
   "outputs": [],
   "source": [
    "x=[]\n",
    "y=[]\n",
    "for i in range (100,df_test_scale.shape[0]):\n",
    "    x.append(df_test_scale[i-100:i])\n",
    "    y.append(df_test_scale[i,0])\n",
    "    \n",
    "x,y=np.array(x),np.array(y)"
   ]
  },
  {
   "cell_type": "code",
   "execution_count": 44,
   "id": "aa76b607",
   "metadata": {},
   "outputs": [
    {
     "name": "stdout",
     "output_type": "stream",
     "text": [
      "31/31 [==============================] - 1s 29ms/step\n"
     ]
    }
   ],
   "source": [
    "y_predict=model.predict(x)"
   ]
  },
  {
   "cell_type": "code",
   "execution_count": 46,
   "id": "cd341b5d",
   "metadata": {},
   "outputs": [
    {
     "data": {
      "text/plain": [
       "array([0.0102168])"
      ]
     },
     "execution_count": 46,
     "metadata": {},
     "output_type": "execute_result"
    }
   ],
   "source": [
    "scaler.scale_"
   ]
  },
  {
   "cell_type": "code",
   "execution_count": 51,
   "id": "9c1cef93",
   "metadata": {},
   "outputs": [],
   "source": [
    "scale=1/scaler.scale_"
   ]
  },
  {
   "cell_type": "code",
   "execution_count": 52,
   "id": "42907399",
   "metadata": {},
   "outputs": [
    {
     "name": "stdout",
     "output_type": "stream",
     "text": [
      "Prediction score is  [97.87799835]\n"
     ]
    }
   ],
   "source": [
    "print(\"Prediction score is \",scale)"
   ]
  },
  {
   "cell_type": "code",
   "execution_count": 53,
   "id": "a9524d83",
   "metadata": {},
   "outputs": [],
   "source": [
    "y_predict=y_predict*scale"
   ]
  },
  {
   "cell_type": "code",
   "execution_count": 54,
   "id": "30efa28e",
   "metadata": {},
   "outputs": [],
   "source": [
    "y=y*scale"
   ]
  },
  {
   "cell_type": "code",
   "execution_count": 56,
   "id": "03262dcf",
   "metadata": {},
   "outputs": [
    {
     "data": {
      "image/png": "[encoded data removed]",
      "text/plain": [
       "<Figure size 1000x800 with 1 Axes>"
      ]
     },
     "metadata": {},
     "output_type": "display_data"
    }
   ],
   "source": [
    "plt.figure(figsize=(10,8))\n",
    "plt.plot(y_predict,\"r\",label=\"Predicted price\")\n",
    "plt.plot(y,\"g\",label=\"Original Price\")\n",
    "plt.xlabel(\"Time\")\n",
    "plt.ylabel(\"Price\")\n",
    "plt.legend()\n",
    "plt.show()"
   ]
  },
  {
   "cell_type": "code",
   "execution_count": 60,
   "id": "9f50d880",
   "metadata": {},
   "outputs": [],
   "source": [
    "model.save(\"Stock Prediction using LSTM.keras\")"
   ]
  },
  {
   "cell_type": "code",
   "execution_count": null,
   "id": "766cd421",
   "metadata": {},
   "outputs": [],
   "source": []
  }
 ],
 "metadata": {
  "kernelspec": {
   "display_name": "Python 3 (ipykernel)",
   "language": "python",
   "name": "python3"
  },
  "language_info": {
   "codemirror_mode": {
    "name": "ipython",
    "version": 3
   },
   "file_extension": ".py",
   "mimetype": "text/x-python",
   "name": "python",
   "nbconvert_exporter": "python",
   "pygments_lexer": "ipython3",
   "version": "3.11.4"
  }
 },
 "nbformat": 4,
 "nbformat_minor": 5
}
